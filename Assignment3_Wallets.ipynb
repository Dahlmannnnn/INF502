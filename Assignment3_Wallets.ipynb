{
 "cells": [
  {
   "cell_type": "markdown",
   "metadata": {},
   "source": [
    "Question 1:"
   ]
  },
  {
   "cell_type": "markdown",
   "metadata": {},
   "source": [
    "Igor: Great job."
   ]
  },
  {
   "cell_type": "code",
   "execution_count": null,
   "metadata": {},
   "outputs": [],
   "source": [
    "lst=[]\n",
    "for i in range(0, 5): \n",
    "    ele = int(input(\"Please enter money in a wallet: \")) \n",
    "    lst.append(ele)\n",
    "\n",
    "lst.sort()\n",
    "\n",
    "print(\"The fattest wallet has $\",str(lst[4]),\"in it\")\n",
    "print(\"The skinniest wallet has $\",str(lst[0]),\"in it\")\n",
    "print(\"All together the wallets have $\",str(sum(lst)),\"in them\")\n",
    "print(\"All together the wallets have\",str(sum(lst)*10),\" dimes in them\")"
   ]
  }
 ],
 "metadata": {
  "kernelspec": {
   "display_name": "Python 3",
   "language": "python",
   "name": "python3"
  },
  "language_info": {
   "codemirror_mode": {
    "name": "ipython",
    "version": 3
   },
   "file_extension": ".py",
   "mimetype": "text/x-python",
   "name": "python",
   "nbconvert_exporter": "python",
   "pygments_lexer": "ipython3",
   "version": "3.7.6"
  }
 },
 "nbformat": 4,
 "nbformat_minor": 2
}
