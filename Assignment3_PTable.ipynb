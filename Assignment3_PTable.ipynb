{
 "cells": [
  {
   "cell_type": "markdown",
   "metadata": {},
   "source": [
    "Question 2:"
   ]
  },
  {
   "cell_type": "code",
   "execution_count": 4,
   "metadata": {},
   "outputs": [
    {
     "name": "stdout",
     "output_type": "stream",
     "text": [
      "Menu\n",
      "\n",
      "[1] See stored data\n",
      "[2] Sort by property\n",
      "[3] Enter new element\n",
      "[4] Edit element\n",
      "[5] Exit\n",
      "\n"
     ]
    },
    {
     "ename": "KeyboardInterrupt",
     "evalue": "Interrupted by user",
     "output_type": "error",
     "traceback": [
      "\u001b[0;31m---------------------------------------------------------------------------\u001b[0m",
      "\u001b[0;31mKeyboardInterrupt\u001b[0m                         Traceback (most recent call last)",
      "\u001b[0;32m<ipython-input-4-efd5a4da0015>\u001b[0m in \u001b[0;36m<module>\u001b[0;34m\u001b[0m\n\u001b[1;32m     27\u001b[0m   \u001b[0mprint\u001b[0m\u001b[0;34m(\u001b[0m\u001b[0;34m\"[5] Exit\\n\"\u001b[0m\u001b[0;34m)\u001b[0m\u001b[0;34m\u001b[0m\u001b[0;34m\u001b[0m\u001b[0m\n\u001b[1;32m     28\u001b[0m \u001b[0;34m\u001b[0m\u001b[0m\n\u001b[0;32m---> 29\u001b[0;31m   \u001b[0ms\u001b[0m \u001b[0;34m=\u001b[0m \u001b[0mint\u001b[0m\u001b[0;34m(\u001b[0m\u001b[0minput\u001b[0m\u001b[0;34m(\u001b[0m\u001b[0;34m\"Please enter your selection: \"\u001b[0m\u001b[0;34m)\u001b[0m\u001b[0;34m)\u001b[0m\u001b[0;34m\u001b[0m\u001b[0;34m\u001b[0m\u001b[0m\n\u001b[0m\u001b[1;32m     30\u001b[0m \u001b[0;34m\u001b[0m\u001b[0m\n\u001b[1;32m     31\u001b[0m   \u001b[0;32mif\u001b[0m \u001b[0ms\u001b[0m \u001b[0;34m==\u001b[0m \u001b[0;36m1\u001b[0m\u001b[0;34m:\u001b[0m\u001b[0;34m\u001b[0m\u001b[0;34m\u001b[0m\u001b[0m\n",
      "\u001b[0;32m/srv/conda/envs/notebook/lib/python3.6/site-packages/ipykernel/kernelbase.py\u001b[0m in \u001b[0;36mraw_input\u001b[0;34m(self, prompt)\u001b[0m\n\u001b[1;32m    861\u001b[0m             \u001b[0mself\u001b[0m\u001b[0;34m.\u001b[0m\u001b[0m_parent_ident\u001b[0m\u001b[0;34m,\u001b[0m\u001b[0;34m\u001b[0m\u001b[0;34m\u001b[0m\u001b[0m\n\u001b[1;32m    862\u001b[0m             \u001b[0mself\u001b[0m\u001b[0;34m.\u001b[0m\u001b[0m_parent_header\u001b[0m\u001b[0;34m,\u001b[0m\u001b[0;34m\u001b[0m\u001b[0;34m\u001b[0m\u001b[0m\n\u001b[0;32m--> 863\u001b[0;31m             \u001b[0mpassword\u001b[0m\u001b[0;34m=\u001b[0m\u001b[0;32mFalse\u001b[0m\u001b[0;34m,\u001b[0m\u001b[0;34m\u001b[0m\u001b[0;34m\u001b[0m\u001b[0m\n\u001b[0m\u001b[1;32m    864\u001b[0m         )\n\u001b[1;32m    865\u001b[0m \u001b[0;34m\u001b[0m\u001b[0m\n",
      "\u001b[0;32m/srv/conda/envs/notebook/lib/python3.6/site-packages/ipykernel/kernelbase.py\u001b[0m in \u001b[0;36m_input_request\u001b[0;34m(self, prompt, ident, parent, password)\u001b[0m\n\u001b[1;32m    902\u001b[0m             \u001b[0;32mexcept\u001b[0m \u001b[0mKeyboardInterrupt\u001b[0m\u001b[0;34m:\u001b[0m\u001b[0;34m\u001b[0m\u001b[0;34m\u001b[0m\u001b[0m\n\u001b[1;32m    903\u001b[0m                 \u001b[0;31m# re-raise KeyboardInterrupt, to truncate traceback\u001b[0m\u001b[0;34m\u001b[0m\u001b[0;34m\u001b[0m\u001b[0;34m\u001b[0m\u001b[0m\n\u001b[0;32m--> 904\u001b[0;31m                 \u001b[0;32mraise\u001b[0m \u001b[0mKeyboardInterrupt\u001b[0m\u001b[0;34m(\u001b[0m\u001b[0;34m\"Interrupted by user\"\u001b[0m\u001b[0;34m)\u001b[0m \u001b[0;32mfrom\u001b[0m \u001b[0;32mNone\u001b[0m\u001b[0;34m\u001b[0m\u001b[0;34m\u001b[0m\u001b[0m\n\u001b[0m\u001b[1;32m    905\u001b[0m             \u001b[0;32mexcept\u001b[0m \u001b[0mException\u001b[0m \u001b[0;32mas\u001b[0m \u001b[0me\u001b[0m\u001b[0;34m:\u001b[0m\u001b[0;34m\u001b[0m\u001b[0;34m\u001b[0m\u001b[0m\n\u001b[1;32m    906\u001b[0m                 \u001b[0mself\u001b[0m\u001b[0;34m.\u001b[0m\u001b[0mlog\u001b[0m\u001b[0;34m.\u001b[0m\u001b[0mwarning\u001b[0m\u001b[0;34m(\u001b[0m\u001b[0;34m\"Invalid Message:\"\u001b[0m\u001b[0;34m,\u001b[0m \u001b[0mexc_info\u001b[0m\u001b[0;34m=\u001b[0m\u001b[0;32mTrue\u001b[0m\u001b[0;34m)\u001b[0m\u001b[0;34m\u001b[0m\u001b[0;34m\u001b[0m\u001b[0m\n",
      "\u001b[0;31mKeyboardInterrupt\u001b[0m: Interrupted by user"
     ]
    },
    {
     "name": "stdout",
     "output_type": "stream",
     "text": [
      "Please enter your selection: 5\n"
     ]
    }
   ],
   "source": [
    "w = 0\n",
    "Table = { \"H\": {\"Symbol\":\"H\", \"Name\":\"Hydrogen\", \"Number\":1, \"Row\":1, \"Column\":1},\n",
    "\"He\": {\"Symbol\":\"He\", \"Name\":\"Helium\", \"Number\":2, \"Row\":1, \"Column\":18},\n",
    "\"Li\": {\"Symbol\":\"Li\", \"Name\":\"Lithium\", \"Number\":3, \"Row\":2, \"Column\":1},\n",
    "\"Be\": {\"Symbol\":\"Be\", \"Name\":\"Beryllium\", \"Number\":4, \"Row\":2, \"Column\":2},\n",
    "\"B\": {\"Symbol\":\"B\", \"Name\":\"Boron\", \"Number\":5, \"Row\":2, \"Column\":13},\n",
    "\"C\": {\"Symbol\":\"C\", \"Name\":\"Carbon\", \"Number\":6, \"Row\":2, \"Column\":14},\n",
    "\"N\": {\"Symbol\":\"N\", \"Name\":\"Nitrogen\", \"Number\":7, \"Row\":2, \"Column\":15},\n",
    "\"O\": {\"Symbol\":\"O\", \"Name\":\"Oxygen\", \"Number\":8, \"Row\":2, \"Column\":16},\n",
    "\"F\": {\"Symbol\":\"F\", \"Name\":\"Florine\", \"Number\":9, \"Row\":2, \"Column\":17},\n",
    "\"Ne\": {\"Symbol\":\"Ne\", \"Name\":\"Neon\", \"Number\":10, \"Row\":2, \"Column\":18},\n",
    "\"Na\": {\"Symbol\":\"Na\", \"Name\":\"Sodium\", \"Number\":11, \"Row\":3, \"Column\":1},\n",
    "\"Mg\": {\"Symbol\":\"Mg\", \"Name\":\"Magnesium\", \"Number\":12, \"Row\":3, \"Column\":2},\n",
    "\"Al\": {\"Symbol\":\"Al\", \"Name\":\"Aluminum\", \"Number\":13, \"Row\":3, \"Column\":13},\n",
    "\"Si\": {\"Symbol\":\"Si\", \"Name\":\"Silicon\", \"Number\":14, \"Row\":3, \"Column\":14},\n",
    "\"P\": {\"Symbol\":\"P\", \"Name\":\"Phosphorus\", \"Number\":15, \"Row\":3, \"Column\":15},\n",
    "\"S\": {\"Symbol\":\"S\", \"Name\":\"Sulfer\", \"Number\":16, \"Row\":3, \"Column\":16},\n",
    "\"Cl\": {\"Symbol\":\"Cl\", \"Name\":\"Chlorine\", \"Number\":17, \"Row\":3, \"Column\":17},\n",
    "\"Ar\": {\"Symbol\":\"Ar\", \"Name\":\"Argon\", \"Number\":18, \"Row\":3, \"Column\":18}}\n",
    "\n",
    "while w<1:\n",
    "  print(\"Menu\\n\")\n",
    "  print(\"[1] See stored data\")\n",
    "  print(\"[2] Sort by property\")\n",
    "  print(\"[3] Enter new element\")\n",
    "  print(\"[4] Edit element\")\n",
    "  print(\"[5] Exit\\n\")\n",
    "\n",
    "  s = int(input(\"Please enter your selection: \"))\n",
    "\n",
    "  if s == 1:\n",
    "    sym = input(\"Please enter element symbol:\")\n",
    "    print(Table[sym])\n",
    "  \n",
    "  elif s == 2:\n",
    "    print(\"Display: \\n\")\n",
    "    print(\"[1] Row\")\n",
    "    print(\"[2] Column\")\n",
    "    print(\"[3] Atomic Number\")\n",
    "    print(\"[4] Name\")\n",
    "\n",
    "\n",
    "    d = int(input(\"Please enter your selection: \"))\n",
    "\n",
    "    if d == 1:\n",
    "      for x in Table:\n",
    "        print (x)\n",
    "        print ('Row:',Table[x]['Row'])\n",
    "\n",
    "\n",
    "    elif d == 2:\n",
    "      for x in Table:\n",
    "        print (x)\n",
    "        print ('Column:',Table[x]['Column'])\n",
    "\n",
    "    elif d == 3:\n",
    "      for x in Table:\n",
    "        print (x)\n",
    "        print ('Atomic Number:',Table[x]['Number'])\n",
    "\n",
    "    elif d == 4:\n",
    "      for x in Table:\n",
    "        print (x)\n",
    "        print ('Name:',Table[x]['Name'])       \n",
    "    \n",
    "  elif s == 3:\n",
    "    sym = input(\"Please enter element symbol:\")\n",
    "    nm = input(\"Please enter element name: \")\n",
    "    nu = int(input(\"Please enter atomic number of element: \"))\n",
    "    rw = int(input(\"Please enter periodic table row: \"))\n",
    "    col = int(input(\"Please enter periodic table column: \"))\n",
    "    l = {\"Symbol\":sym, \"Name\":nm, \"Number\":nu, \"Row\":rw, \"Column\":col}\n",
    "\n",
    "    Table[sym] = l\n",
    "\n",
    "  elif s == 4:\n",
    "    sym = input(\"Please enter element symbol:\")\n",
    "    print(Table[sym])\n",
    "    nm = input(\"Please enter element name: \")\n",
    "    nu = int(input(\"Please enter atomic number of element: \"))\n",
    "    rw = int(input(\"Please enter periodic table row: \"))\n",
    "    col = int(input(\"Please enter periodic table column: \"))\n",
    "    l = {\"Name\":nm, \"Number\":nu, \"Row\":rw, \"Column\":col}\n",
    "\n",
    "    Table[sym] = l\n",
    "\n",
    "  elif s == 5:\n",
    "    break\n",
    " \n",
    "  else:\n",
    "    print(\"Invalid Input\\n\")"
   ]
  },
  {
   "cell_type": "code",
   "execution_count": null,
   "metadata": {},
   "outputs": [],
   "source": []
  }
 ],
 "metadata": {
  "kernelspec": {
   "display_name": "Python 3",
   "language": "python",
   "name": "python3"
  },
  "language_info": {
   "codemirror_mode": {
    "name": "ipython",
    "version": 3
   },
   "file_extension": ".py",
   "mimetype": "text/x-python",
   "name": "python",
   "nbconvert_exporter": "python",
   "pygments_lexer": "ipython3",
   "version": "3.6.10"
  }
 },
 "nbformat": 4,
 "nbformat_minor": 2
}
